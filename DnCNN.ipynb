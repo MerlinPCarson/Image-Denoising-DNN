{
 "cells": [
  {
   "cell_type": "code",
   "execution_count": 11,
   "metadata": {
    "collapsed": true,
    "pycharm": {
     "is_executing": false
    }
   },
   "outputs": [],
   "source": [
    "import torch.nn as nn\n",
    "import torch, h5py\n",
    "from torch.autograd import Variable\n",
    "from torch.utils.data import DataLoader\n",
    "import numpy as np\n",
    "import os"
   ]
  },
  {
   "cell_type": "code",
   "execution_count": 12,
   "outputs": [
    {
     "name": "stdout",
     "text": [
      "cpu\n"
     ],
     "output_type": "stream"
    }
   ],
   "source": [
    "device = (\"cuda:0\" if torch.cuda.is_available() else \"cpu\")\n",
    "print(device)"
   ],
   "metadata": {
    "collapsed": false,
    "pycharm": {
     "name": "#%%\n",
     "is_executing": false
    }
   }
  },
  {
   "cell_type": "code",
   "execution_count": 3,
   "outputs": [],
   "source": [
    "class CNN_ReLU(nn.Module):\n",
    "\tdef __init__(self, in_channels, out_channels, filter_size):\n",
    "\t\tsuper(CNN_ReLU, self).__init__()\n",
    "\t\tpadding = int((filter_size - 1) / 2)\n",
    "\t\tself.layer = nn.Sequential(nn.Conv2d(in_channels, out_channels, filter_size, padding=padding),\n",
    "\t\t                           nn.ReLU())\n",
    "\t\t\n",
    "\tdef forward(self, x):\n",
    "\t\treturn self.layer(x)\n",
    "\n",
    "\n",
    "class CNN_BN_ReLU(nn.Module):\n",
    "\tdef __init__(self, in_channels, out_channels, filter_size):\n",
    "\t\tsuper(CNN_BN_ReLU, self).__init__()\n",
    "\t\tpadding = int((filter_size - 1) / 2)\n",
    "\t\tself.layer = nn.Sequential(nn.Conv2d(in_channels, out_channels, filter_size, padding=padding),\n",
    "\t\t                           nn.BatchNorm2d(in_channels),\n",
    "\t\t                           nn.ReLU())\n",
    "\t\t\n",
    "\tdef forward(self, x):\n",
    "\t\treturn self.layer(x)\n",
    "\t\n",
    "\n",
    "class CNN(nn.Module):\n",
    "\tdef __init__(self, in_channels, out_channels, filter_size):\n",
    "\t\tsuper(CNN, self).__init__()\n",
    "\t\tpadding = int((filter_size - 1) / 2)\n",
    "\t\tself.layer = nn.Conv2d(in_channels, out_channels, filter_size, padding=padding)\n",
    "\t\t\n",
    "\tdef forward(self, x):\n",
    "\t\treturn self.layer(x)\n",
    "\t"
   ],
   "metadata": {
    "collapsed": false,
    "pycharm": {
     "name": "#%%\n",
     "is_executing": false
    }
   }
  },
  {
   "cell_type": "code",
   "execution_count": 4,
   "outputs": [],
   "source": [
    "class DnCNN(nn.Module):\n",
    "\tdef __init__(self, num_layers, input_channels, output_channels, filter_size):\n",
    "\t\tsuper(DnCNN, self).__init__()\n",
    "\t\tself.layers = nn.Sequential(\n",
    "\t\t\tCNN_ReLU(input_channels, output_channels, filter_size),\n",
    "\t\t\tnn.Sequential(*[CNN_BN_ReLU(output_channels, output_channels, filter_size) for x in range(num_layers)]),\n",
    "\t\t\tCNN(output_channels, input_channels, filter_size))\n",
    "\t\t\n",
    "\tdef forward(self, x):\n",
    "\t\treturn self.layers(x)"
   ],
   "metadata": {
    "collapsed": false,
    "pycharm": {
     "name": "#%%\n",
     "is_executing": false
    }
   }
  },
  {
   "cell_type": "code",
   "execution_count": 5,
   "outputs": [],
   "source": [
    "class Dataset(torch.utils.data.Dataset):\n",
    "    def __init__(self, file_name):\n",
    "        super(Dataset, self).__init__()\n",
    "        self.file_name = file_name\n",
    "        with h5py.File(file_name, 'r') as data:\n",
    "            self.keys = list(data.keys())\n",
    "\n",
    "    def __len__(self):\n",
    "        return len(self.keys)\n",
    "    \n",
    "    def __getitem__(self, index):\n",
    "        with h5py.File(self.file_name, 'r') as data:\n",
    "            example = np.array(data[self.keys[index]])\n",
    "        return torch.Tensor(example)\n",
    "\n",
    "    def shape(self):\n",
    "        with h5py.File(self.file_name, 'r') as data:\n",
    "            return np.array(data[self.keys[0]]).shape"
   ],
   "metadata": {
    "collapsed": false,
    "pycharm": {
     "name": "#%%\n",
     "is_executing": false
    }
   }
  },
  {
   "cell_type": "code",
   "execution_count": 6,
   "outputs": [
    {
     "name": "stdout",
     "text": [
      "Loading datasets\n"
     ],
     "output_type": "stream"
    }
   ],
   "source": [
    "train_set = 'Image-Denoising-DNN/train.h5'\n",
    "val_set = 'Image-Denoising-DNN/val.h5'\n",
    "batch_size = 128\n",
    "\n",
    "assert os.path.exists(train_set), f'Cannot find training vectors file {train_set}'\n",
    "assert os.path.exists(val_set), f'Cannot find validation vectors file {train_set}'\n",
    "\n",
    "print('Loading datasets')\n",
    "\n",
    "train_data = Dataset(train_set)\n",
    "val_data = Dataset(val_set)\n",
    "\n",
    "train_loader = DataLoader(dataset=train_data, num_workers=os.cpu_count(), batch_size=batch_size, shuffle=True)"
   ],
   "metadata": {
    "collapsed": false,
    "pycharm": {
     "name": "#%%\n",
     "is_executing": false
    }
   }
  },
  {
   "cell_type": "code",
   "execution_count": 7,
   "outputs": [
    {
     "name": "stdout",
     "text": [
      "Training epoch 1\n"
     ],
     "output_type": "stream"
    },
    {
     "traceback": [
      "\u001b[0;31m---------------------------------------------------------------------------\u001b[0m",
      "\u001b[0;31mKeyboardInterrupt\u001b[0m                         Traceback (most recent call last)",
      "\u001b[0;32m<ipython-input-7-ccc933a3260e>\u001b[0m in \u001b[0;36m<module>\u001b[0;34m\u001b[0m\n\u001b[1;32m     38\u001b[0m                 \u001b[0mepoch_loss\u001b[0m \u001b[0;34m=\u001b[0m \u001b[0mloss\u001b[0m\u001b[0;34m(\u001b[0m\u001b[0mbatch\u001b[0m\u001b[0;34m,\u001b[0m \u001b[0mpredict\u001b[0m\u001b[0;34m)\u001b[0m\u001b[0;34m\u001b[0m\u001b[0;34m\u001b[0m\u001b[0m\n\u001b[1;32m     39\u001b[0m                 \u001b[0mepoch_losses\u001b[0m\u001b[0;34m.\u001b[0m\u001b[0mappend\u001b[0m\u001b[0;34m(\u001b[0m\u001b[0mepoch_loss\u001b[0m\u001b[0;34m.\u001b[0m\u001b[0mitem\u001b[0m\u001b[0;34m(\u001b[0m\u001b[0;34m)\u001b[0m\u001b[0;34m)\u001b[0m\u001b[0;34m\u001b[0m\u001b[0;34m\u001b[0m\u001b[0m\n\u001b[0;32m---> 40\u001b[0;31m                 \u001b[0mepoch_loss\u001b[0m\u001b[0;34m.\u001b[0m\u001b[0mbackward\u001b[0m\u001b[0;34m(\u001b[0m\u001b[0;34m)\u001b[0m\u001b[0;34m\u001b[0m\u001b[0;34m\u001b[0m\u001b[0m\n\u001b[0m\u001b[1;32m     41\u001b[0m                 \u001b[0moptimizer\u001b[0m\u001b[0;34m.\u001b[0m\u001b[0mstep\u001b[0m\u001b[0;34m(\u001b[0m\u001b[0;34m)\u001b[0m\u001b[0;34m\u001b[0m\u001b[0;34m\u001b[0m\u001b[0m\n\u001b[1;32m     42\u001b[0m \u001b[0;34m\u001b[0m\u001b[0m\n",
      "\u001b[0;32m~/anaconda3/envs/ESN_Bianchi/lib/python3.7/site-packages/torch/tensor.py\u001b[0m in \u001b[0;36mbackward\u001b[0;34m(self, gradient, retain_graph, create_graph)\u001b[0m\n\u001b[1;32m    164\u001b[0m                 \u001b[0mproducts\u001b[0m\u001b[0;34m.\u001b[0m \u001b[0mDefaults\u001b[0m \u001b[0mto\u001b[0m\u001b[0;31m \u001b[0m\u001b[0;31m`\u001b[0m\u001b[0;31m`\u001b[0m\u001b[0;32mFalse\u001b[0m\u001b[0;31m`\u001b[0m\u001b[0;31m`\u001b[0m\u001b[0;34m.\u001b[0m\u001b[0;34m\u001b[0m\u001b[0;34m\u001b[0m\u001b[0m\n\u001b[1;32m    165\u001b[0m         \"\"\"\n\u001b[0;32m--> 166\u001b[0;31m         \u001b[0mtorch\u001b[0m\u001b[0;34m.\u001b[0m\u001b[0mautograd\u001b[0m\u001b[0;34m.\u001b[0m\u001b[0mbackward\u001b[0m\u001b[0;34m(\u001b[0m\u001b[0mself\u001b[0m\u001b[0;34m,\u001b[0m \u001b[0mgradient\u001b[0m\u001b[0;34m,\u001b[0m \u001b[0mretain_graph\u001b[0m\u001b[0;34m,\u001b[0m \u001b[0mcreate_graph\u001b[0m\u001b[0;34m)\u001b[0m\u001b[0;34m\u001b[0m\u001b[0;34m\u001b[0m\u001b[0m\n\u001b[0m\u001b[1;32m    167\u001b[0m \u001b[0;34m\u001b[0m\u001b[0m\n\u001b[1;32m    168\u001b[0m     \u001b[0;32mdef\u001b[0m \u001b[0mregister_hook\u001b[0m\u001b[0;34m(\u001b[0m\u001b[0mself\u001b[0m\u001b[0;34m,\u001b[0m \u001b[0mhook\u001b[0m\u001b[0;34m)\u001b[0m\u001b[0;34m:\u001b[0m\u001b[0;34m\u001b[0m\u001b[0;34m\u001b[0m\u001b[0m\n",
      "\u001b[0;32m~/anaconda3/envs/ESN_Bianchi/lib/python3.7/site-packages/torch/autograd/__init__.py\u001b[0m in \u001b[0;36mbackward\u001b[0;34m(tensors, grad_tensors, retain_graph, create_graph, grad_variables)\u001b[0m\n\u001b[1;32m     97\u001b[0m     Variable._execution_engine.run_backward(\n\u001b[1;32m     98\u001b[0m         \u001b[0mtensors\u001b[0m\u001b[0;34m,\u001b[0m \u001b[0mgrad_tensors\u001b[0m\u001b[0;34m,\u001b[0m \u001b[0mretain_graph\u001b[0m\u001b[0;34m,\u001b[0m \u001b[0mcreate_graph\u001b[0m\u001b[0;34m,\u001b[0m\u001b[0;34m\u001b[0m\u001b[0;34m\u001b[0m\u001b[0m\n\u001b[0;32m---> 99\u001b[0;31m         allow_unreachable=True)  # allow_unreachable flag\n\u001b[0m\u001b[1;32m    100\u001b[0m \u001b[0;34m\u001b[0m\u001b[0m\n\u001b[1;32m    101\u001b[0m \u001b[0;34m\u001b[0m\u001b[0m\n",
      "\u001b[0;31mKeyboardInterrupt\u001b[0m: "
     ],
     "ename": "KeyboardInterrupt",
     "evalue": "",
     "output_type": "error"
    }
   ],
   "source": [
    "DEPTH = 17\n",
    "INPUT_CHANNELS = 1\n",
    "OUTPUT_CHANNELS = 64\n",
    "FILTER_SIZE = 3\n",
    "\n",
    "LEARNING_RATE = 0.1\n",
    "WEIGHT_DECAY = 0.0001\n",
    "MOMENTUM = 0.9\n",
    "\n",
    "END_LR = 0.0001\n",
    "START_LR = 0.1\n",
    "LR_EPOCHS = 50\n",
    "GAMMA = np.log(END_LR / START_LR) / (-LR_EPOCHS)\n",
    "\n",
    "NUM_ITERATIONS = 1\n",
    "\n",
    "model = DnCNN(DEPTH, INPUT_CHANNELS, OUTPUT_CHANNELS, FILTER_SIZE)\n",
    "optimizer = torch.optim.SGD([{'params': model.layers[0].parameters()},\n",
    "                             {'params': model.layers[1].parameters()},\n",
    "                             {'params': model.layers[2].parameters(), 'weight_decay':0}], \n",
    "                            lr=LEARNING_RATE,\n",
    "                            momentum=MOMENTUM,\n",
    "                            weight_decay=WEIGHT_DECAY)\n",
    "scheduler = torch.optim.lr_scheduler.ExponentialLR(optimizer, gamma=GAMMA)\n",
    "loss = nn.MSELoss()\n",
    "\n",
    "epoch_losses = []\n",
    "\n",
    "model.to(device)\n",
    "\n",
    "for epoch in range(NUM_ITERATIONS):\n",
    "\tprint(f'Training epoch {epoch+1}')\n",
    "\t\n",
    "\tfor batch_num, batch in enumerate(train_loader):\n",
    "\t\tbatch = Variable(batch).to(device)\n",
    "\t\t\n",
    "\t\toptimizer.zero_grad()\n",
    "\t\tpredict = model(batch)\n",
    "\t\tepoch_loss = loss(batch, predict)\n",
    "\t\tepoch_losses.append(epoch_loss.item())\n",
    "\t\tepoch_loss.backward()\n",
    "\t\toptimizer.step()\n",
    "\t\t\n",
    "\tscheduler.step()\n",
    "\t\n",
    "print(loss(batch, model(batch)))"
   ],
   "metadata": {
    "collapsed": false,
    "pycharm": {
     "name": "#%%\n",
     "is_executing": false
    }
   }
  }
 ],
 "metadata": {
  "kernelspec": {
   "display_name": "Python 3",
   "language": "python",
   "name": "python3"
  },
  "language_info": {
   "codemirror_mode": {
    "name": "ipython",
    "version": 2
   },
   "file_extension": ".py",
   "mimetype": "text/x-python",
   "name": "python",
   "nbconvert_exporter": "python",
   "pygments_lexer": "ipython2",
   "version": "2.7.6"
  },
  "pycharm": {
   "stem_cell": {
    "cell_type": "raw",
    "source": [],
    "metadata": {
     "collapsed": false
    }
   }
  }
 },
 "nbformat": 4,
 "nbformat_minor": 0
}