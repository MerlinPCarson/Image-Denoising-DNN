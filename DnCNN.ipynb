{
 "cells": [
  {
   "cell_type": "code",
   "execution_count": 138,
   "metadata": {
    "collapsed": true,
    "pycharm": {
     "is_executing": false
    }
   },
   "outputs": [],
   "source": [
    "import torch.nn as nn\n",
    "import torch"
   ]
  },
  {
   "cell_type": "code",
   "execution_count": 139,
   "outputs": [],
   "source": [
    "class CNN_ReLU(nn.Module):\n",
    "\tdef __init__(self, in_channels, out_channels, filter_size):\n",
    "\t\tsuper(CNN_ReLU, self).__init__()\n",
    "\t\tpadding = int((filter_size - 1) / 2)\n",
    "\t\tself.layer = nn.Sequential(nn.Conv2d(in_channels, out_channels, filter_size, padding=padding),\n",
    "\t\t                           nn.ReLU())\n",
    "\t\t\n",
    "\tdef forward(self, x):\n",
    "\t\treturn self.layer(x)\n",
    "\n",
    "\n",
    "class CNN_BN_ReLU(nn.Module):\n",
    "\tdef __init__(self, in_channels, out_channels, filter_size):\n",
    "\t\tsuper(CNN_BN_ReLU, self).__init__()\n",
    "\t\tpadding = int((filter_size - 1) / 2)\n",
    "\t\tself.layer = nn.Sequential(nn.Conv2d(in_channels, out_channels, filter_size, padding=padding),\n",
    "\t\t                           nn.BatchNorm2d(in_channels),\n",
    "\t\t                           nn.ReLU())\n",
    "\t\t\n",
    "\tdef forward(self, x):\n",
    "\t\treturn self.layer(x)\n",
    "\t\n",
    "\n",
    "class CNN(nn.Module):\n",
    "\tdef __init__(self, in_channels, out_channels, filter_size):\n",
    "\t\tsuper(CNN, self).__init__()\n",
    "\t\tpadding = int((filter_size - 1) / 2)\n",
    "\t\tself.layer = nn.Conv2d(in_channels, out_channels, filter_size, padding=padding)\n",
    "\t\t\n",
    "\tdef forward(self, x):\n",
    "\t\treturn self.layer(x)\n",
    "\t"
   ],
   "metadata": {
    "collapsed": false,
    "pycharm": {
     "name": "#%%\n",
     "is_executing": false
    }
   }
  },
  {
   "cell_type": "code",
   "execution_count": 140,
   "outputs": [],
   "source": [
    "class DnCNN(nn.Module):\n",
    "\tdef __init__(self, num_layers, input_channels, output_channels, filter_size):\n",
    "\t\tsuper(DnCNN, self).__init__()\n",
    "\t\tself.layers = nn.Sequential(\n",
    "\t\t\tCNN_ReLU(input_channels, output_channels, filter_size),\n",
    "\t\t\tnn.Sequential(*[CNN_BN_ReLU(output_channels, output_channels, filter_size) for x in range(num_layers)]),\n",
    "\t\t\tCNN(output_channels, input_channels, filter_size))\n",
    "\t\t\n",
    "\tdef forward(self, x):\n",
    "\t\treturn self.layers(x)"
   ],
   "metadata": {
    "collapsed": false,
    "pycharm": {
     "name": "#%%\n",
     "is_executing": false
    }
   }
  },
  {
   "cell_type": "code",
   "execution_count": 141,
   "outputs": [
    {
     "name": "stdout",
     "text": [
      "Initializing DnCNN\n",
      "Forward DnCNN\n"
     ],
     "output_type": "stream"
    }
   ],
   "source": [
    "test = DnCNN(1, 1, 64, 3)\n",
    "image = torch.rand((128, 1, 40, 40))  \n",
    "output = test(image)\n",
    "\n"
   ],
   "metadata": {
    "collapsed": false,
    "pycharm": {
     "name": "#%%\n",
     "is_executing": false
    }
   }
  }
 ],
 "metadata": {
  "kernelspec": {
   "display_name": "Python 3",
   "language": "python",
   "name": "python3"
  },
  "language_info": {
   "codemirror_mode": {
    "name": "ipython",
    "version": 2
   },
   "file_extension": ".py",
   "mimetype": "text/x-python",
   "name": "python",
   "nbconvert_exporter": "python",
   "pygments_lexer": "ipython2",
   "version": "2.7.6"
  },
  "pycharm": {
   "stem_cell": {
    "cell_type": "raw",
    "source": [],
    "metadata": {
     "collapsed": false
    }
   }
  }
 },
 "nbformat": 4,
 "nbformat_minor": 0
}