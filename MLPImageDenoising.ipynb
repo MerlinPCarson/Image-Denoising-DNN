{
  "nbformat": 4,
  "nbformat_minor": 0,
  "metadata": {
    "colab": {
      "name": "MLPImageDenoising.ipynb",
      "provenance": [],
      "authorship_tag": "ABX9TyMYfoyIbs2vfYeFBb4Yjkw6",
      "include_colab_link": true
    },
    "kernelspec": {
      "name": "python3",
      "display_name": "Python 3"
    }
  },
  "cells": [
    {
      "cell_type": "markdown",
      "metadata": {
        "id": "view-in-github",
        "colab_type": "text"
      },
      "source": [
        "<a href=\"https://colab.research.google.com/github/mpc6/Image-Denoising-DNN/blob/master/MLPImageDenoising.ipynb\" target=\"_parent\"><img src=\"https://colab.research.google.com/assets/colab-badge.svg\" alt=\"Open In Colab\"/></a>"
      ]
    },
    {
      "cell_type": "code",
      "metadata": {
        "id": "6qW-kH9KhP01",
        "colab_type": "code",
        "colab": {}
      },
      "source": [
        "\n",
        "import numpy as np\n",
        "import matplotlib\n",
        "%matplotlib inline\n",
        "from matplotlib import pyplot\n",
        "import torch\n",
        "import torch.nn as nn\n",
        "import torch.utils.data\n",
        "from torch.autograd import Variable\n",
        "import os\n",
        "import torch.nn.functional as F\n",
        "\n",
        "\n",
        "device = torch.device(\"cuda:0\" if torch.cuda.is_available() else \"cpu\")\n"
      ],
      "execution_count": 0,
      "outputs": []
    },
    {
      "cell_type": "markdown",
      "metadata": {
        "id": "WnmUc0C8mTY0",
        "colab_type": "text"
      },
      "source": [
        "Large training set: The union of the LabelMe dataset [22]\n",
        "(containing approximately 150, 000 images) and the\n",
        "Berkeley segmentation dataset.\n",
        "\n",
        "Small training set: The Berkeley segmentation dataset\n",
        "[15], containing 200 images.\n",
        "\n",
        "We train networks with different architectures and patch\n",
        "sizes. We write for instance L–17–4x2047 for a network\n",
        "that is trained on the large training set with patch size 17 ×\n",
        "17 and 4 hidden layers of size 2047; \n",
        "\n",
        "\n",
        "similarly S–13–2x511\n",
        "for a network that is trained on the small training set with\n",
        "patch size 13 × 13 and 2 hidden layers of size 511.\n"
      ]
    },
    {
      "cell_type": "code",
      "metadata": {
        "id": "6HyiEWNwlNpK",
        "colab_type": "code",
        "colab": {}
      },
      "source": [
        "#Hyperparameters\n",
        "num_epochs = 1000\n",
        "batch_size = 64\n",
        "learning_rate = 0.1\n",
        "\n",
        "#Implementing for the small data set, number of hidden layers = 2\n",
        "num_input = 13*13 #Vector of \n",
        "num_hidden = 511 #number of neurons on hidden layer = 511\n",
        "num_output= 13*13"
      ],
      "execution_count": 0,
      "outputs": []
    },
    {
      "cell_type": "code",
      "metadata": {
        "id": "fPf2OBiqqW0V",
        "colab_type": "code",
        "colab": {}
      },
      "source": [
        "#Load data\n",
        "...."
      ],
      "execution_count": 0,
      "outputs": []
    },
    {
      "cell_type": "code",
      "metadata": {
        "id": "xUAFEhl5qZ9t",
        "colab_type": "code",
        "colab": {}
      },
      "source": [
        "#Data laoders\n",
        "...."
      ],
      "execution_count": 0,
      "outputs": []
    },
    {
      "cell_type": "code",
      "metadata": {
        "id": "WBvjMF6mnhIc",
        "colab_type": "code",
        "colab": {}
      },
      "source": [
        "#Denoising model with 17x17 patch input, two hidden layers\n",
        "class MLP_denoising(nn.Module):\n",
        "    def __init__(self, num_input, num_hidden, num_output):\n",
        "      super(MLP_denoising, self).__init__()\n",
        "      self.num_input  =  num_input\n",
        "      self.num_hidden =  num_hidden\n",
        "      self.num_output  =  num_output\n",
        "\n",
        "      self.fc1 = nn.Linear(self.num_input, self.num_hidden)\n",
        "      self.fc2 = nn.Linear(self.num_hidden, self.num_hidden)\n",
        "      self.fc3 = nn.Linear(self.num_hidden, self.numhidden)\n",
        "      self.out = nn.Linear(self.num_hidden, self.num_output)\n",
        "          \n",
        "        \n",
        "    def forward(self, x):\n",
        "      s1 = F.relu(self.fc1(x))\n",
        "      s2 = F.relu(self.fc2(s1))\n",
        "      s3 = F.relu(self.fc2(s2))\n",
        "      out = self.out(s3)\n",
        "\n",
        "      return out"
      ],
      "execution_count": 0,
      "outputs": []
    }
  ]
}